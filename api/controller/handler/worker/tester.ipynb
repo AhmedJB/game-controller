{
 "cells": [
  {
   "cell_type": "code",
   "execution_count": 1,
   "metadata": {},
   "outputs": [],
   "source": [
    "import json"
   ]
  },
  {
   "cell_type": "code",
   "execution_count": 3,
   "metadata": {},
   "outputs": [
    {
     "name": "stdout",
     "output_type": "stream",
     "text": [
      "Testing with data : 15\n"
     ]
    }
   ],
   "source": [
    "f = open(\"sample.json\",\"r\")\n",
    "data = json.loads(f.read())\n",
    "f.close()\n",
    "print(f\"Testing with data : {len(data)}\")\n",
    "\n",
    "\n",
    "previous_data = {\n",
    "            \"homescore\": \"0\",\n",
    "            \"awayscore\": \"0\",\n",
    "            \"HomePen1num\": None,\n",
    "            \"homepen2num\": None,\n",
    "            \"gameclock\": None,\n",
    "            \"period\": None\n",
    "        }"
   ]
  },
  {
   "cell_type": "code",
   "execution_count": 7,
   "metadata": {},
   "outputs": [],
   "source": [
    "\n",
    "def testLogic(data):\n",
    "    try:\n",
    "       if data[\"homescore\"] != previous_data[\"homescore\"] and int(data[\"homescore\"]) > int(previous_data[\"homescore\"]):\n",
    "            print(\"valid\")\n",
    "    except Exception as e:\n",
    "        print(e)\n",
    "        print(\"Failed for this data point\")\n",
    "        print(data) \n"
   ]
  },
  {
   "cell_type": "code",
   "execution_count": 9,
   "metadata": {},
   "outputs": [
    {
     "name": "stdout",
     "output_type": "stream",
     "text": [
      "valid\n",
      "valid\n",
      "valid\n",
      "valid\n",
      "valid\n",
      "valid\n",
      "valid\n",
      "valid\n",
      "valid\n",
      "valid\n",
      "valid\n"
     ]
    }
   ],
   "source": [
    "for d in data:\n",
    "    testLogic(d[0])"
   ]
  },
  {
   "cell_type": "code",
   "execution_count": null,
   "metadata": {},
   "outputs": [],
   "source": []
  }
 ],
 "metadata": {
  "kernelspec": {
   "display_name": "workenv",
   "language": "python",
   "name": "python3"
  },
  "language_info": {
   "codemirror_mode": {
    "name": "ipython",
    "version": 3
   },
   "file_extension": ".py",
   "mimetype": "text/x-python",
   "name": "python",
   "nbconvert_exporter": "python",
   "pygments_lexer": "ipython3",
   "version": "3.8.3"
  }
 },
 "nbformat": 4,
 "nbformat_minor": 2
}
